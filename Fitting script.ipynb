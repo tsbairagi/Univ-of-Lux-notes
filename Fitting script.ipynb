{
 "cells": [
  {
   "cell_type": "code",
   "execution_count": 93,
   "metadata": {},
   "outputs": [],
   "source": [
    "#importing the libraries\n",
    "\n",
    "import pandas as pd\n",
    "import numpy as np\n",
    "import matplotlib.pyplot as plt\n",
    "%matplotlib inline\n",
    "import os"
   ]
  },
  {
   "cell_type": "code",
   "execution_count": 98,
   "metadata": {},
   "outputs": [
    {
     "data": {
      "text/html": [
       "<div>\n",
       "<style scoped>\n",
       "    .dataframe tbody tr th:only-of-type {\n",
       "        vertical-align: middle;\n",
       "    }\n",
       "\n",
       "    .dataframe tbody tr th {\n",
       "        vertical-align: top;\n",
       "    }\n",
       "\n",
       "    .dataframe thead th {\n",
       "        text-align: right;\n",
       "    }\n",
       "</style>\n",
       "<table border=\"1\" class=\"dataframe\">\n",
       "  <thead>\n",
       "    <tr style=\"text-align: right;\">\n",
       "      <th></th>\n",
       "      <th>0</th>\n",
       "    </tr>\n",
       "  </thead>\n",
       "  <tbody>\n",
       "    <tr>\n",
       "      <th>0</th>\n",
       "      <td>-0.000003</td>\n",
       "    </tr>\n",
       "    <tr>\n",
       "      <th>1</th>\n",
       "      <td>-0.000003</td>\n",
       "    </tr>\n",
       "    <tr>\n",
       "      <th>2</th>\n",
       "      <td>0.000004</td>\n",
       "    </tr>\n",
       "    <tr>\n",
       "      <th>3</th>\n",
       "      <td>236.607194</td>\n",
       "    </tr>\n",
       "    <tr>\n",
       "      <th>4</th>\n",
       "      <td>236.624074</td>\n",
       "    </tr>\n",
       "  </tbody>\n",
       "</table>\n",
       "</div>"
      ],
      "text/plain": [
       "            0\n",
       "0   -0.000003\n",
       "1   -0.000003\n",
       "2    0.000004\n",
       "3  236.607194\n",
       "4  236.624074"
      ]
     },
     "execution_count": 98,
     "metadata": {},
     "output_type": "execute_result"
    }
   ],
   "source": [
    "#importing original data:\n",
    "odata = (np.loadtxt('mos2.disp')[:, 1])\n",
    "pd.DataFrame(odata).head()"
   ]
  },
  {
   "cell_type": "code",
   "execution_count": 95,
   "metadata": {},
   "outputs": [],
   "source": [
    "#function to calculate the losses using the orginal and test dataset\n",
    "\n",
    "def freq(x):\n",
    "    os.system('sed -e s/knn1/%.1f/g lc.gin > lc_loop.gin' % x[0])\n",
    "    os.system('sed -i.bak -es/knn2/%.1f/g lc_loop.gin' %x[1])\n",
    "    \n",
    "    '''You can add more variables over here in the #tagged lines'''\n",
    "    #os.system('sed -i.bak -es/knn2/%.1f/g lc_loop.gin' %x[1])\n",
    "    #os.system('sed -i.bak -es/knn2/%.1f/g lc_loop.gin' %x[1])\n",
    "    #os.system('sed -i.bak -es/knn2/%.1f/g lc_loop.gin' %x[1])\n",
    "    #os.system('sed -i.bak -es/knn2/%.1f/g lc_loop.gin' %x[1])\n",
    "    #os.system('sed -i.bak -es/knn2/%.1f/g lc_loop.gin' %x[1])\n",
    "    \n",
    "    os.system('sed -i.bak -e s/fname/tset/g lc_loop.gin')\n",
    "    os.system('gulp < lc_loop.gin')\n",
    "    tdata = (np.loadtxt('tset.disp')[:, 1])\n",
    "    return tdata\n",
    "def loss_calc(o, t):\n",
    "    odata = pd.DataFrame(o)\n",
    "    tdata = pd.DataFrame(t)\n",
    "    l = (odata - tdata)*(odata - tdata)\n",
    "    loss = np.sum(l)\n",
    "    loss = loss/len(odata)\n",
    "    return float(loss)\n",
    "def loss(k):\n",
    "    return loss_calc(odata, freq(k))"
   ]
  },
  {
   "cell_type": "code",
   "execution_count": 96,
   "metadata": {},
   "outputs": [],
   "source": [
    "#modelling:\n",
    "\n",
    "from scipy.optimize import minimize\n",
    "\n",
    "#input the initial guess over here\n",
    "k = [5 , 4 ]\n",
    "\n",
    "sol = minimize(loss, k, method = \"nelder-mead\")"
   ]
  },
  {
   "cell_type": "code",
   "execution_count": 97,
   "metadata": {},
   "outputs": [
    {
     "name": "stdout",
     "output_type": "stream",
     "text": [
      "[ 4.96655273  2.00859375]\n",
      "0.0\n"
     ]
    },
    {
     "data": {
      "image/png": "[encoded data removed]",
      "text/plain": [
       "<matplotlib.figure.Figure at 0x7fbdcccddb50>"
      ]
     },
     "metadata": {},
     "output_type": "display_data"
    }
   ],
   "source": [
    "print sol.x\n",
    "print loss(sol.x)\n",
    "for n in range(6):\n",
    "    plt.plot(odata.reshape(len(odata)//6,6)[:,n], color = 'blue')\n",
    "    plt.plot(freq(sol.x).reshape(len(odata)//6,6)[:,n], color = 'red')\n"
   ]
  },
  {
   "cell_type": "code",
   "execution_count": 52,
   "metadata": {},
   "outputs": [],
   "source": [
    "'''Create your own script and be proud of it :p '''\n",
    "\n",
    "\n",
    "def findk(k):\n",
    "    T =1000\n",
    "    while(T):\n",
    "        k1 = k+0.1\n",
    "        k2 = k-0.1\n",
    "        lossk = loss(k)\n",
    "        lossk1 = loss(k1)\n",
    "        lossk2 = loss(k2)\n",
    "        if (lossk1>lossk) & (lossk2>lossk):\n",
    "            return k\n",
    "        if(lossk1>=lossk):\n",
    "            k = k2\n",
    "        if(lossk2>=lossk):\n",
    "            k = k1\n",
    "        T = T-1\n"
   ]
  },
  {
   "cell_type": "code",
   "execution_count": null,
   "metadata": {},
   "outputs": [],
   "source": []
  }
 ],
 "metadata": {
  "kernelspec": {
   "display_name": "Python 2",
   "language": "python",
   "name": "python2"
  },
  "language_info": {
   "codemirror_mode": {
    "name": "ipython",
    "version": 2
   },
   "file_extension": ".py",
   "mimetype": "text/x-python",
   "name": "python",
   "nbconvert_exporter": "python",
   "pygments_lexer": "ipython2",
   "version": "2.7.12"
  }
 },
 "nbformat": 4,
 "nbformat_minor": 2
}
