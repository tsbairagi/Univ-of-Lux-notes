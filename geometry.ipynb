{
 "cells": [
  {
   "cell_type": "code",
   "execution_count": 2,
   "metadata": {},
   "outputs": [],
   "source": [
    "import pandas as pd\n",
    "import numpy as np\n",
    "import math"
   ]
  },
  {
   "cell_type": "code",
   "execution_count": 3,
   "metadata": {},
   "outputs": [],
   "source": [
    "x = [[0.3333, 0.6667, 0], \n",
    "     [0.6667, 0.3333, 0.1509],\n",
    "     [0.6667, 0.3333, -0.1509]]\n",
    "\n",
    "xa = np.array(x)"
   ]
  },
  {
   "cell_type": "code",
   "execution_count": 4,
   "metadata": {},
   "outputs": [],
   "source": [
    "y = [[3.122, 3.122, 10.58],\n",
    "     [3.122, 3.122, 10.58],\n",
    "     [3.122, 3.122, 10.58]]\n",
    "\n",
    "ya = np.array(y)"
   ]
  },
  {
   "cell_type": "code",
   "execution_count": 5,
   "metadata": {
    "scrolled": true
   },
   "outputs": [
    {
     "data": {
      "text/html": [
       "<div>\n",
       "<style scoped>\n",
       "    .dataframe tbody tr th:only-of-type {\n",
       "        vertical-align: middle;\n",
       "    }\n",
       "\n",
       "    .dataframe tbody tr th {\n",
       "        vertical-align: top;\n",
       "    }\n",
       "\n",
       "    .dataframe thead th {\n",
       "        text-align: right;\n",
       "    }\n",
       "</style>\n",
       "<table border=\"1\" class=\"dataframe\">\n",
       "  <thead>\n",
       "    <tr style=\"text-align: right;\">\n",
       "      <th></th>\n",
       "      <th>0</th>\n",
       "      <th>1</th>\n",
       "      <th>2</th>\n",
       "    </tr>\n",
       "  </thead>\n",
       "  <tbody>\n",
       "    <tr>\n",
       "      <th>0</th>\n",
       "      <td>2.081281</td>\n",
       "      <td>1.802578</td>\n",
       "      <td>0.000000</td>\n",
       "    </tr>\n",
       "    <tr>\n",
       "      <th>1</th>\n",
       "      <td>2.601719</td>\n",
       "      <td>0.901154</td>\n",
       "      <td>1.596522</td>\n",
       "    </tr>\n",
       "    <tr>\n",
       "      <th>2</th>\n",
       "      <td>2.601719</td>\n",
       "      <td>0.901154</td>\n",
       "      <td>-1.596522</td>\n",
       "    </tr>\n",
       "  </tbody>\n",
       "</table>\n",
       "</div>"
      ],
      "text/plain": [
       "          0         1         2\n",
       "0  2.081281  1.802578  0.000000\n",
       "1  2.601719  0.901154  1.596522\n",
       "2  2.601719  0.901154 -1.596522"
      ]
     },
     "execution_count": 5,
     "metadata": {},
     "output_type": "execute_result"
    }
   ],
   "source": [
    "fa = xa*ya\n",
    "\n",
    "fa[:, 0] = fa[:, 0] + 0.5 * fa[:, 1] \n",
    "fa[:, 1] = 0.86602540378 * fa[:, 1]\n",
    "\n",
    "pd.DataFrame(fa)"
   ]
  },
  {
   "cell_type": "code",
   "execution_count": 6,
   "metadata": {},
   "outputs": [],
   "source": [
    "cx = np.array([3.122, 0, 0])\n",
    "cy = np.array([1.561, 2.7037312988, 0])"
   ]
  },
  {
   "cell_type": "code",
   "execution_count": 28,
   "metadata": {},
   "outputs": [],
   "source": [
    "Ma2 = fa[0]\n",
    "Mb2 = cy + fa[0]\n",
    "Mb1 = -1*cx + cy + fa[0]\n",
    "Ma1 = -1*cx + fa[0]\n",
    "Md2 = -1*cy + fa[0]\n",
    "Md3 = 1*cx -1*cy + fa[0]\n",
    "Ma3 = 1*cx + fa[0]\n",
    "Mc1 = -cx + 2*cy + fa[0]\n",
    "\n",
    "Mb2 = cy + fa[0]\n",
    "Sc1 = -cx + 2*cy + fa[1]\n",
    "sc1 = -cx + 2*cy + fa[2]\n",
    "Sb1 = -cx + cy + fa[1]\n",
    "sb1 = -cx + cy + fa[2]\n",
    "Sb2 = cy + fa[1]\n",
    "sb2 = cy + fa[2]\n",
    "\n",
    "Sa2 = fa[1]\n",
    "Sb2 = cy + fa[1]\n",
    "Sb1 = -1*cx + cy + fa[1]\n",
    "Sa1 = -1*cx + fa[1]\n",
    "Ma2 = fa[0]\n",
    "Ma3 = cx + fa[0]\n",
    "Mb2 = cy + fa[0]\n",
    "sa2 = fa[2]\n",
    "sb2 = cy + fa[2]\n",
    "sb1 = -1*cx + cy + fa[2]\n",
    "sa1 = -1*cx + fa[2]\n",
    "sc1 = -cx + 2*cy + fa[2]\n",
    "Sc1 = -cx + 2*cy + fa[1]\n",
    "Sa2 = fa[1]\n",
    "Sb2 = cy + fa[1]\n",
    "Sb1 = -1*cx + cy + fa[1]\n",
    "Sa1 = -1*cx + fa[1]\n",
    "Sd2 = -1*cy + fa[1]\n",
    "Sd3 = 1*cx -1*cy + fa[1]\n",
    "Sa3 = 1*cx + fa[1]\n",
    "\n",
    "Mb3 = cx + cy + fa[0]"
   ]
  },
  {
   "cell_type": "code",
   "execution_count": 29,
   "metadata": {},
   "outputs": [],
   "source": [
    "def dist(x, y):\n",
    "    da = x - y\n",
    "    d = np.sum(da*da)\n",
    "    distmos = math.sqrt(d)\n",
    "    print distmos\n",
    "\n",
    "def ang(y, x, z):\n",
    "    v1 = y-x\n",
    "    v2 = z-x\n",
    "    sqv1 = v1 * v1\n",
    "    sqv2 = v2 * v2    \n",
    "    magv1 = math.sqrt(np.sum(sqv1))\n",
    "    magv2 = math.sqrt(np.sum(sqv2))\n",
    "\n",
    "    ang = (np.dot(v1, v2))/(magv1*magv2)\n",
    "    angle = (180/(math.pi))*math.acos(ang)\n",
    "    print angle\n",
    "    \n",
    "def angleinfo(a, b, c):\n",
    "    print ang(b, a, c)\n",
    "    print dist(a, b)\n",
    "    print dist(a, c)\n",
    "    print dist(b, c)"
   ]
  },
  {
   "cell_type": "code",
   "execution_count": 40,
   "metadata": {},
   "outputs": [
    {
     "name": "stdout",
     "output_type": "stream",
     "text": [
      "1.4058\n",
      "2.4058\n",
      "2.1229\n",
      "3.1229\n",
      "2.682\n",
      "3.682\n"
     ]
    }
   ],
   "source": [
    "def cal(x):\n",
    "    print x - 0.5\n",
    "    print x + 0.5\n",
    "cal(1.9058)\n",
    "cal(2.6229)\n",
    "cal(3.182)"
   ]
  },
  {
   "cell_type": "code",
   "execution_count": 39,
   "metadata": {},
   "outputs": [
    {
     "name": "stdout",
     "output_type": "stream",
     "text": [
      "2.6229686525\n"
     ]
    }
   ],
   "source": [
    "dist(Ma2, Sb1)"
   ]
  },
  {
   "cell_type": "code",
   "execution_count": 41,
   "metadata": {},
   "outputs": [
    {
     "name": "stdout",
     "output_type": "stream",
     "text": [
      "3.122\n"
     ]
    }
   ],
   "source": [
    "dist(Ma2, Ma3)"
   ]
  },
  {
   "cell_type": "code",
   "execution_count": 42,
   "metadata": {},
   "outputs": [
    {
     "name": "stdout",
     "output_type": "stream",
     "text": [
      "3.122\n"
     ]
    }
   ],
   "source": [
    "dist(Sa1, Sa2)"
   ]
  },
  {
   "cell_type": "code",
   "execution_count": 46,
   "metadata": {},
   "outputs": [
    {
     "name": "stdout",
     "output_type": "stream",
     "text": [
      "85.6095130392\n",
      "None\n",
      "1.90586013279\n",
      "None\n",
      "2.6229686525\n",
      "None\n",
      "3.12199998977\n",
      "None\n"
     ]
    }
   ],
   "source": [
    "angleinfo(Sa2, Ma2, Md3)"
   ]
  },
  {
   "cell_type": "code",
   "execution_count": 49,
   "metadata": {},
   "outputs": [
    {
     "name": "stdout",
     "output_type": "stream",
     "text": [
      "100.117109544\n"
     ]
    }
   ],
   "source": [
    "ang(Sa1, Ma2, sb1)"
   ]
  },
  {
   "cell_type": "code",
   "execution_count": 50,
   "metadata": {},
   "outputs": [
    {
     "name": "stdout",
     "output_type": "stream",
     "text": [
      "3.12199998977\n"
     ]
    }
   ],
   "source": [
    "dist(Mb2, Ma2)"
   ]
  },
  {
   "cell_type": "code",
   "execution_count": null,
   "metadata": {},
   "outputs": [],
   "source": []
  }
 ],
 "metadata": {
  "kernelspec": {
   "display_name": "Python 2",
   "language": "python",
   "name": "python2"
  },
  "language_info": {
   "codemirror_mode": {
    "name": "ipython",
    "version": 2
   },
   "file_extension": ".py",
   "mimetype": "text/x-python",
   "name": "python",
   "nbconvert_exporter": "python",
   "pygments_lexer": "ipython2",
   "version": "2.7.12"
  }
 },
 "nbformat": 4,
 "nbformat_minor": 2
}
